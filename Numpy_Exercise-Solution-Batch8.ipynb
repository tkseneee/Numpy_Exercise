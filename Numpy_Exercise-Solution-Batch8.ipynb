{
 "cells": [
  {
   "cell_type": "markdown",
   "metadata": {},
   "source": [
    "# Numpy Exercise Solution  <img src = \"numpy1.png\">\n",
    "###### Authored by T.K.Senthil Kumar"
   ]
  },
  {
   "cell_type": "markdown",
   "metadata": {},
   "source": [
    "#### 1. Create a numpy array with the number of elements equals your age. The value of array elements is a random number between 10 to your age "
   ]
  },
  {
   "cell_type": "code",
   "execution_count": 22,
   "metadata": {},
   "outputs": [
    {
     "name": "stdout",
     "output_type": "stream",
     "text": [
      "[18 11 13 32 23 20 17 33 26 12 31 34 34 29 31 10 31 20 32 10 13 34 10 18\n",
      " 29 11 30 22 13 31 10 10 10 17]\n",
      "(34,)\n"
     ]
    }
   ],
   "source": [
    "#Solution\n",
    "import numpy as np\n",
    "\n",
    "sol1=np.random.randint(10,35,size=(1,34))\n",
    "sol1=np.squeeze(sol1)\n",
    "print(sol1)\n",
    "print(sol1.shape)"
   ]
  },
  {
   "cell_type": "markdown",
   "metadata": {},
   "source": [
    "#### 2. Create a numpy array between 1 to 50 with the span(space) of 2 and print the length of the array"
   ]
  },
  {
   "cell_type": "code",
   "execution_count": 8,
   "metadata": {},
   "outputs": [
    {
     "name": "stdout",
     "output_type": "stream",
     "text": [
      "25\n"
     ]
    }
   ],
   "source": [
    "# Solution\n",
    "sol2=np.arange(1,50,2)\n",
    "print(len(sol2))\n"
   ]
  },
  {
   "cell_type": "markdown",
   "metadata": {},
   "source": [
    "#### 3. Create an equally spaced numpy array with 27 elements between 4 and 7 "
   ]
  },
  {
   "cell_type": "code",
   "execution_count": 10,
   "metadata": {},
   "outputs": [
    {
     "name": "stdout",
     "output_type": "stream",
     "text": [
      "[4.         4.11538462 4.23076923 4.34615385 4.46153846 4.57692308\n",
      " 4.69230769 4.80769231 4.92307692 5.03846154 5.15384615 5.26923077\n",
      " 5.38461538 5.5        5.61538462 5.73076923 5.84615385 5.96153846\n",
      " 6.07692308 6.19230769 6.30769231 6.42307692 6.53846154 6.65384615\n",
      " 6.76923077 6.88461538 7.        ]\n"
     ]
    }
   ],
   "source": [
    "# Solution\n",
    "sol3=np.linspace(4,7,27)\n",
    "print(sol3)"
   ]
  },
  {
   "cell_type": "markdown",
   "metadata": {},
   "source": [
    "#### 4. Create a matrix of size (5 x 4) with random numbers and round off the each elements by only 2 fractional points."
   ]
  },
  {
   "cell_type": "code",
   "execution_count": 13,
   "metadata": {},
   "outputs": [
    {
     "name": "stdout",
     "output_type": "stream",
     "text": [
      "[[0.41 0.76 0.99 0.85]\n",
      " [0.89 0.52 0.61 0.36]\n",
      " [0.4  0.99 0.91 0.34]\n",
      " [0.47 0.24 0.96 0.9 ]\n",
      " [0.54 0.03 0.57 0.79]]\n"
     ]
    }
   ],
   "source": [
    "# Solution\n",
    "sol4=np.random.rand(5,4)\n",
    "sol4=np.round(sol4,2)\n",
    "print(sol4)\n"
   ]
  },
  {
   "cell_type": "markdown",
   "metadata": {},
   "source": [
    "#### 5. Create a matrix of size (5x5) with random integers between 5 to 15"
   ]
  },
  {
   "cell_type": "code",
   "execution_count": 14,
   "metadata": {},
   "outputs": [
    {
     "name": "stdout",
     "output_type": "stream",
     "text": [
      "[[15 12 11 11  9]\n",
      " [12 14 13  7  6]\n",
      " [12  6 12 11  6]\n",
      " [ 5 12 11 12  8]\n",
      " [ 5  8 10  7 12]]\n"
     ]
    }
   ],
   "source": [
    "# Solution\n",
    "sol5=np.random.randint(5,16,size=(5,5))\n",
    "print(sol5)\n"
   ]
  },
  {
   "cell_type": "markdown",
   "metadata": {},
   "source": [
    "#### 6. Create the one dimensional array of zeros of random length below 20 with the data type int32"
   ]
  },
  {
   "cell_type": "code",
   "execution_count": 21,
   "metadata": {},
   "outputs": [
    {
     "name": "stdout",
     "output_type": "stream",
     "text": [
      "[[0 0 0 0 0 0 0 0 0 0 0 0 0 0 0 0 0 0]]\n"
     ]
    }
   ],
   "source": [
    "# Solution\n",
    "sol6=np.zeros([1,np.random.randint(20)],dtype='int32')\n",
    "print(sol6)\n"
   ]
  },
  {
   "cell_type": "markdown",
   "metadata": {},
   "source": [
    "#### 7. Create a two dimensional array of ones of random row and column lengths with the data type of float32 "
   ]
  },
  {
   "cell_type": "code",
   "execution_count": 27,
   "metadata": {},
   "outputs": [
    {
     "name": "stdout",
     "output_type": "stream",
     "text": [
      "[[1 1 1 1 1 1 1 1 1 1 1 1 1 1]\n",
      " [1 1 1 1 1 1 1 1 1 1 1 1 1 1]\n",
      " [1 1 1 1 1 1 1 1 1 1 1 1 1 1]\n",
      " [1 1 1 1 1 1 1 1 1 1 1 1 1 1]\n",
      " [1 1 1 1 1 1 1 1 1 1 1 1 1 1]\n",
      " [1 1 1 1 1 1 1 1 1 1 1 1 1 1]\n",
      " [1 1 1 1 1 1 1 1 1 1 1 1 1 1]\n",
      " [1 1 1 1 1 1 1 1 1 1 1 1 1 1]\n",
      " [1 1 1 1 1 1 1 1 1 1 1 1 1 1]]\n"
     ]
    }
   ],
   "source": [
    "# Solution\n",
    "sol7=np.ones([np.random.randint(20),np.random.randint(20)],dtype='int32')\n",
    "print(sol7)\n"
   ]
  },
  {
   "cell_type": "markdown",
   "metadata": {},
   "source": [
    "#### 8. Create a matrix exactly as same as shown below and print its shape, type and dtype\n",
    "<img src = \"np_mat1.png\">"
   ]
  },
  {
   "cell_type": "code",
   "execution_count": 30,
   "metadata": {},
   "outputs": [
    {
     "name": "stdout",
     "output_type": "stream",
     "text": [
      "(5, 5)\n",
      "<class 'numpy.ndarray'>\n",
      "int32\n"
     ]
    }
   ],
   "source": [
    "# Solution\n",
    "mat=np.array([[9,25,50,34,45],[3,34,34,65,2],[5,7,3,76,3],[7,8,6,54,6],[23,12,8,5,8]])\n",
    "print(mat.shape)\n",
    "print(type(mat))\n",
    "print(mat.dtype)"
   ]
  },
  {
   "cell_type": "markdown",
   "metadata": {},
   "source": [
    "#### 9. Access the center pixel of the matrix defined in the question no 8 ( Don't enter the row and column index explicitely)"
   ]
  },
  {
   "cell_type": "code",
   "execution_count": 32,
   "metadata": {},
   "outputs": [
    {
     "name": "stdout",
     "output_type": "stream",
     "text": [
      "3\n"
     ]
    }
   ],
   "source": [
    "# Solution\n",
    "print(mat[2,2])\n"
   ]
  },
  {
   "cell_type": "markdown",
   "metadata": {},
   "source": [
    "#### 10. Print the all the elements of 3rd row of the matrix"
   ]
  },
  {
   "cell_type": "code",
   "execution_count": 37,
   "metadata": {},
   "outputs": [
    {
     "name": "stdout",
     "output_type": "stream",
     "text": [
      "[ 5  7  3 76  3]\n"
     ]
    }
   ],
   "source": [
    "# Solution\n",
    "print(mat[2,:])"
   ]
  },
  {
   "cell_type": "markdown",
   "metadata": {},
   "source": [
    "#### 11. Print the all the elements of 4th columns of the matrix"
   ]
  },
  {
   "cell_type": "code",
   "execution_count": 40,
   "metadata": {},
   "outputs": [
    {
     "name": "stdout",
     "output_type": "stream",
     "text": [
      "[34 65 76 54  5]\n"
     ]
    }
   ],
   "source": [
    "# Solution\n",
    "print(mat[:,3])"
   ]
  },
  {
   "cell_type": "markdown",
   "metadata": {},
   "source": [
    "#### 12. Print the 4 corner pixels of the matrix"
   ]
  },
  {
   "cell_type": "code",
   "execution_count": 43,
   "metadata": {},
   "outputs": [
    {
     "name": "stdout",
     "output_type": "stream",
     "text": [
      "[[ 9 45]\n",
      " [23  8]]\n"
     ]
    }
   ],
   "source": [
    "# Solution\n",
    "c1=mat[[0,4],:]\n",
    "c2=c1[:,[0,4]]\n",
    "print(c2)"
   ]
  },
  {
   "cell_type": "markdown",
   "metadata": {},
   "source": [
    "#### 13. Create three matrix m1,m2,m3 with the elements grouped in the figure below\n",
    "<img src = \"np_mat2.png\">"
   ]
  },
  {
   "cell_type": "code",
   "execution_count": 49,
   "metadata": {},
   "outputs": [
    {
     "name": "stdout",
     "output_type": "stream",
     "text": [
      "The first matrix m1 :\n",
      " [[50 34]\n",
      " [34 65]]\n",
      "The second matrix m2 :\n",
      " [[ 7  8]\n",
      " [23 12]]\n",
      "The third matrix m3 :\n",
      " [[ 3 76  3]\n",
      " [ 6 54  6]\n",
      " [ 8  5  8]]\n"
     ]
    }
   ],
   "source": [
    "# Solution \n",
    "m1=mat[0:2,2:4]\n",
    "print('The first matrix m1 :\\n', m1)\n",
    "m2=mat[3:5,0:2]\n",
    "print('The second matrix m2 :\\n',m2)\n",
    "m3=mat[2:5,2:5]\n",
    "print('The third matrix m3 :\\n',m3)"
   ]
  },
  {
   "cell_type": "markdown",
   "metadata": {},
   "source": [
    "#### 14. Reshape all the three matrix segmented in the above task in to three  1-dimensional vector."
   ]
  },
  {
   "cell_type": "code",
   "execution_count": 56,
   "metadata": {},
   "outputs": [
    {
     "name": "stdout",
     "output_type": "stream",
     "text": [
      "[[50 34 34 65]]\n",
      "[[ 7  8 23 12]]\n",
      "[[ 3 76  3  6 54  6  8  5  8]]\n"
     ]
    }
   ],
   "source": [
    "# Solution\n",
    "m11=m1.reshape([1,-1])\n",
    "print(m11)\n",
    "m21=m2.reshape([1,np.size(m2)])\n",
    "print(m21)\n",
    "m31=m3.reshape([1,-1])\n",
    "print(m31)"
   ]
  },
  {
   "cell_type": "markdown",
   "metadata": {},
   "source": [
    "#### 15. Concatenate the matrix m1 and m2 in both vertical and horizontal direction"
   ]
  },
  {
   "cell_type": "code",
   "execution_count": 59,
   "metadata": {},
   "outputs": [
    {
     "name": "stdout",
     "output_type": "stream",
     "text": [
      "The horizontal stack matrix : \n",
      " [[50 34  7  8]\n",
      " [34 65 23 12]]\n",
      "The vertical stack matrix : \n",
      " [[50 34]\n",
      " [34 65]\n",
      " [ 7  8]\n",
      " [23 12]]\n"
     ]
    }
   ],
   "source": [
    "# Solution\n",
    "mh=np.hstack([m1,m2])\n",
    "print(\"The horizontal stack matrix : \\n\",mh)\n",
    "mv=np.vstack([m1,m2])\n",
    "print(\"The vertical stack matrix : \\n\",mv)"
   ]
  },
  {
   "cell_type": "markdown",
   "metadata": {},
   "source": [
    "#### 16. Add, Subtract, multiply, divide the matrixes m1 and m2"
   ]
  },
  {
   "cell_type": "code",
   "execution_count": 60,
   "metadata": {},
   "outputs": [
    {
     "name": "stdout",
     "output_type": "stream",
     "text": [
      "Addition result \n",
      " [[57 42]\n",
      " [57 77]]\n",
      "Subtraction result \n",
      " [[43 26]\n",
      " [11 53]]\n",
      "Multiplication result \n",
      " [[350 272]\n",
      " [782 780]]\n",
      "Division result \n",
      " [[7.14285714 4.25      ]\n",
      " [1.47826087 5.41666667]]\n"
     ]
    }
   ],
   "source": [
    "# Solution\n",
    "m_add=m1+m2\n",
    "print('Addition result \\n',m_add)\n",
    "m_sub=m1-m2\n",
    "print('Subtraction result \\n',m_sub)\n",
    "m_mul=m1*m2\n",
    "print('Multiplication result \\n',m_mul)\n",
    "m_div=m1/m2\n",
    "print('Division result \\n',m_div)"
   ]
  },
  {
   "cell_type": "markdown",
   "metadata": {},
   "source": [
    "#### 17. Add the m1 with m3 by removing the first row and last column of m3"
   ]
  },
  {
   "cell_type": "code",
   "execution_count": 63,
   "metadata": {},
   "outputs": [
    {
     "name": "stdout",
     "output_type": "stream",
     "text": [
      "[[ 6 54]\n",
      " [ 8  5]]\n",
      "[[56 88]\n",
      " [42 70]]\n"
     ]
    }
   ],
   "source": [
    "# Solution\n",
    "m3_new=m3[1:,:-1]\n",
    "print(m3_new)\n",
    "print(m1+m3_new)\n"
   ]
  },
  {
   "cell_type": "markdown",
   "metadata": {},
   "source": [
    "#### 18. Form the matrix m4 by concatenating (as a new row) the vector [me1, me2] with the matrix m1, where me1 and me2 are the mean values of each column on m1."
   ]
  },
  {
   "cell_type": "code",
   "execution_count": 69,
   "metadata": {},
   "outputs": [
    {
     "name": "stdout",
     "output_type": "stream",
     "text": [
      "42.0 49.5\n",
      "[42.  49.5]\n",
      "[42.  49.5]\n",
      "[[50.  34. ]\n",
      " [34.  65. ]\n",
      " [42.  49.5]]\n"
     ]
    }
   ],
   "source": [
    "# Solution\n",
    "me1=np.mean(m1[:,0])\n",
    "me2=np.mean(m1[:,1])\n",
    "print(me1,me2)\n",
    "me1=np.hstack([me1,me2])\n",
    "print(me1)\n",
    "me=np.mean(m1,axis=0)# by using axis = 0 ,we can compute mean of each column, axis=1 will compute for each row\n",
    "print(me) \n",
    "\n",
    "m4=np.vstack([m1,me])\n",
    "print(m4)"
   ]
  },
  {
   "cell_type": "markdown",
   "metadata": {},
   "source": [
    "#### 19. Perform the matrix multiplication between m3 and m4"
   ]
  },
  {
   "cell_type": "code",
   "execution_count": 73,
   "metadata": {},
   "outputs": [
    {
     "name": "stdout",
     "output_type": "stream",
     "text": [
      "(3, 2)\n",
      "(3, 3)\n",
      "[[2860.  5190.5]\n",
      " [2388.  4011. ]\n",
      " [ 906.   993. ]]\n"
     ]
    }
   ],
   "source": [
    "# Solution\n",
    "print(m4.shape)\n",
    "print(m3.shape)\n",
    "mat_mul=np.dot(m3,m4)\n",
    "print(mat_mul)"
   ]
  },
  {
   "cell_type": "markdown",
   "metadata": {},
   "source": [
    "#### 20. Compute the maximum and minimum value of mean, variance, standard deviation for each row of matrix created in question number 8."
   ]
  },
  {
   "cell_type": "code",
   "execution_count": 84,
   "metadata": {},
   "outputs": [
    {
     "name": "stdout",
     "output_type": "stream",
     "text": [
      "[32.6 27.6 18.8 16.2 11.2]\n",
      "[214.64 548.24 820.16 357.76  39.76]\n",
      "[14.65 23.41 28.64 18.91  6.31]\n"
     ]
    }
   ],
   "source": [
    "# Solution\n",
    "mat_me=np.mean(mat,axis=1)\n",
    "mat_var=np.var(mat,axis=1)\n",
    "mat_std=np.std(mat,axis=1)\n",
    "print(np.round((mat_me),2))\n",
    "print(np.round((mat_var),2))\n",
    "print(np.round((mat_std),2))"
   ]
  },
  {
   "cell_type": "markdown",
   "metadata": {},
   "source": [
    "#### 21. Compute the average and strike rate for each player and sort it decending way (seperately for avg and strike rate)\n",
    "<img src = 'crick1.png'>"
   ]
  },
  {
   "cell_type": "code",
   "execution_count": 224,
   "metadata": {},
   "outputs": [
    {
     "name": "stdout",
     "output_type": "stream",
     "text": [
      "[['MSD' '54' '60' '10' '65']\n",
      " ['Kholi' '102' '2' '78' '32']\n",
      " ['Rohit' '3' '110' '1' '92']\n",
      " ['Rahul' '56' '6' '12' '42']\n",
      " ['Dhawan' '12' '8' '22' '11']]\n",
      "\n",
      " The run matrix \n",
      " [['54' '60' '10' '65']\n",
      " ['102' '2' '78' '32']\n",
      " ['3' '110' '1' '92']\n",
      " ['56' '6' '12' '42']\n",
      " ['12' '8' '22' '11']]\n",
      "\n",
      " The run matrix in integer \n",
      " [[ 54  60  10  65]\n",
      " [102   2  78  32]\n",
      " [  3 110   1  92]\n",
      " [ 56   6  12  42]\n",
      " [ 12   8  22  11]]\n",
      "\n",
      " The average score for each player \n",
      " [47.25 53.5  51.5  29.   13.25]\n",
      "\n",
      " Players score with Average \n",
      " [['MSD' '54' '60' '10' '65' '47.25']\n",
      " ['Kholi' '102' '2' '78' '32' '53.5']\n",
      " ['Rohit' '3' '110' '1' '92' '51.5']\n",
      " ['Rahul' '56' '6' '12' '42' '29.0']\n",
      " ['Dhawan' '12' '8' '22' '11' '13.25']]\n",
      "\n",
      " Final player oder list based on their average \n",
      " [['Kholi' '102' '2' '78' '32' '53.5']\n",
      " ['Rohit' '3' '110' '1' '92' '51.5']\n",
      " ['MSD' '54' '60' '10' '65' '47.25']\n",
      " ['Rahul' '56' '6' '12' '42' '29.0']\n",
      " ['Dhawan' '12' '8' '22' '11' '13.25']]\n"
     ]
    }
   ],
   "source": [
    "# Solution \n",
    "score=np.array([['MSD',54,60,10,65],['Kholi',102,2,78,32],['Rohit',3,110,1,92],\n",
    "                ['Rahul',56,6,12,42],['Dhawan',12,8,22,11]])\n",
    "print(score)\n",
    "run=score[:,1:5]\n",
    "print(\"\\n The run matrix \\n\",run)\n",
    "run1=run.astype('int32')  # to make the run as integer\n",
    "print('\\n The run matrix in integer \\n',run1)\n",
    "\n",
    "avg=run1.mean(axis=1)\n",
    "print(\"\\n The average score for each player \\n\",avg)\n",
    "\n",
    "avg1=avg.reshape([5,1])\n",
    "score_avg=np.concatenate([score,avg1],axis=1) # concatenating the average value as last column\n",
    "print('\\n Players score with Average \\n',score_avg)\n",
    "\n",
    "ind=avg.argsort() # to get the index based on sort (ascending)\n",
    "final_list=score_avg[ind,:][::-1] #::1 is the operator which sort in a desending way\n",
    "print('\\n Final player oder list based on their average \\n',final_list)"
   ]
  },
  {
   "cell_type": "code",
   "execution_count": 225,
   "metadata": {},
   "outputs": [
    {
     "name": "stdout",
     "output_type": "stream",
     "text": [
      "[['MSD' '50' '42' '22' '78']\n",
      " ['Kholi' '95' '8' '65' '43']\n",
      " ['Rohit' '9' '100' '7' '101']\n",
      " ['Rahul' '27' '3' '11' '31']\n",
      " ['Dhawan' '24' '20' '36' '27']]\n",
      "\n",
      " The ball matrix \n",
      " [['50' '42' '22' '78']\n",
      " ['95' '8' '65' '43']\n",
      " ['9' '100' '7' '101']\n",
      " ['27' '3' '11' '31']\n",
      " ['24' '20' '36' '27']]\n",
      "\n",
      " The ball matrix in integer \n",
      " [[ 50  42  22  78]\n",
      " [ 95   8  65  43]\n",
      " [  9 100   7 101]\n",
      " [ 27   3  11  31]\n",
      " [ 24  20  36  27]]\n",
      "\n",
      " The strike rate for each player \n",
      " [ 94.91125541  81.69675643  62.17703913 162.99554687  47.96296296]\n",
      "\n",
      " Players ball faced with strike rate \n",
      " [['MSD' '50' '42' '22' '78' '94.91125541125541']\n",
      " ['Kholi' '95' '8' '65' '43' '81.69675642594859']\n",
      " ['Rohit' '9' '100' '7' '101' '62.17703913248468']\n",
      " ['Rahul' '27' '3' '11' '31' '162.99554686651462']\n",
      " ['Dhawan' '24' '20' '36' '27' '47.96296296296296']]\n",
      "\n",
      " Final player oder list based on their strike rate \n",
      " [['Rahul' '27' '3' '11' '31' '162.99554686651462']\n",
      " ['MSD' '50' '42' '22' '78' '94.91125541125541']\n",
      " ['Kholi' '95' '8' '65' '43' '81.69675642594859']\n",
      " ['Rohit' '9' '100' '7' '101' '62.17703913248468']\n",
      " ['Dhawan' '24' '20' '36' '27' '47.96296296296296']]\n"
     ]
    }
   ],
   "source": [
    "# Solution \n",
    "balls=np.array([['MSD',50,42,22,78],['Kholi',95,8,65,43],['Rohit',9,100,7,101],\n",
    "                ['Rahul',27,3,11,31],['Dhawan',24,20,36,27]])\n",
    "print(balls)\n",
    "ball=balls[:,1:5]\n",
    "print(\"\\n The ball matrix \\n\",ball)\n",
    "ball1=ball.astype('int32')  # to make the run as integer\n",
    "print('\\n The ball matrix in integer \\n',ball1)\n",
    "\n",
    "strike_rate=run1/ball1 *100\n",
    "sr=strike_rate.mean(axis=1)\n",
    "print(\"\\n The strike rate for each player \\n\",sr)\n",
    "\n",
    "sr1=sr.reshape([5,1])\n",
    "player_sr=np.concatenate([balls,sr1],axis=1) # concatenating the strike rate value as last column\n",
    "print('\\n Players ball faced with strike rate \\n',player_sr)\n",
    "\n",
    "ind=sr.argsort() # to get the index based on sort (ascending)\n",
    "\n",
    "final_list_sr=player_sr[ind,:][::-1]\n",
    "print('\\n Final player oder list based on their strike rate \\n',final_list_sr)\n"
   ]
  },
  {
   "cell_type": "markdown",
   "metadata": {},
   "source": [
    "#### 22. The students mark was recorded in a numpy array: marks = np.array([65,84,47,56,89,98,48,77,80,39]).  Cutoff for pass is 50 marks. Write the logic to print the number of students passed and failed. "
   ]
  },
  {
   "cell_type": "code",
   "execution_count": 265,
   "metadata": {},
   "outputs": [
    {
     "name": "stdout",
     "output_type": "stream",
     "text": [
      "The Number of Students passed =  7\n",
      "The Number of Students failed =  3\n"
     ]
    }
   ],
   "source": [
    "# Solution\n",
    "marks = np.array([65,84,47,56,89,98,48,77,80,39])\n",
    "pass_ind=np.where(marks>=50)\n",
    "pass_marks=marks[pass_ind]\n",
    "\n",
    "fail_ind=np.where(marks<50)\n",
    "fail_marks=marks[fail_ind]\n",
    "\n",
    "print('The Number of Students passed = ',len(pass_marks))\n",
    "print('The Number of Students failed = ',len(fail_marks))"
   ]
  },
  {
   "cell_type": "markdown",
   "metadata": {},
   "source": [
    "#### 23. The class incharge decided to give a mercy mark of 5 for those who scored between 45 and 49. Also the bonus of 5 marks awarded to the students who scored more than 80. Print all the student marks and compute the increase in the pass percentage of class. Any score more than 100 must be recorded as only 100."
   ]
  },
  {
   "cell_type": "code",
   "execution_count": 266,
   "metadata": {},
   "outputs": [
    {
     "name": "stdout",
     "output_type": "stream",
     "text": [
      "Actual Students marks \n",
      " [65 84 47 56 89 98 48 77 80 39]\n",
      "Boosted Students marks \n",
      " [ 65  89  52  56  94 100  53  77  80  39]\n",
      "The increase in pass percentage is :  20.0\n"
     ]
    }
   ],
   "source": [
    "# Solution\n",
    "boost_mark=marks.copy()\n",
    "mercy_ind=np.where((boost_mark>=45) & (boost_mark<=49))\n",
    "boost_mark[mercy_ind]=boost_mark[mercy_ind]+5\n",
    "\n",
    "bonus_ind=np.where((boost_mark>80) & (boost_mark<=95))\n",
    "boost_mark[bonus_ind]=boost_mark[bonus_ind]+5\n",
    "\n",
    "bonus_ind1=np.where(boost_mark>95)\n",
    "boost_mark[bonus_ind1]=100\n",
    "\n",
    "print('Actual Students marks \\n',marks)\n",
    "print('Boosted Students marks \\n',boost_mark)\n",
    "\n",
    "actual_pass_percent=(len(marks[np.where(marks>=50)])/len(marks))*100 \n",
    "boosted_pass_percent=(len(boost_mark[np.where(boost_mark>=50)])/len(boost_mark))*100 \n",
    "inc_pass_percent=boosted_pass_percent-actual_pass_percent\n",
    "print('The increase in pass percentage is : ',inc_pass_percent)"
   ]
  },
  {
   "cell_type": "markdown",
   "metadata": {},
   "source": [
    "#### 24. Print the time taken for performing the following operation using list and numpy array\n",
    "####       (x(i)^2 +8) / y(i),   where x and y are real integers from 1 to 60000"
   ]
  },
  {
   "cell_type": "code",
   "execution_count": 286,
   "metadata": {},
   "outputs": [
    {
     "name": "stdout",
     "output_type": "stream",
     "text": [
      "Time taken to complete the computation using LIST is :  99.27868843078613\n",
      "Time taken to complete the computation using NUMPY ARRAY is :  11.988639831542969\n"
     ]
    }
   ],
   "source": [
    "# Solution\n",
    "import time\n",
    "x=range(1,60000)\n",
    "y=range(1,60000)\n",
    "out=[]\n",
    "\n",
    "st=time.time()\n",
    "for i,j in zip(x,y):\n",
    "    out.append((x[i-1]*x[i-1]+8)/y[i-1])\n",
    "\n",
    "print('Time taken to complete the computation using LIST is : ', (time.time()-st)*1000)\n",
    "\n",
    "x_ar=np.arange(1,60000)\n",
    "y_ar=np.arange(1,60000)\n",
    "st_ar=time.time()\n",
    "out_ar=((x_ar*x_ar)+8)/y_ar\n",
    "print('Time taken to complete the computation using NUMPY ARRAY is : ', (time.time()-st_ar)*1000)"
   ]
  },
  {
   "cell_type": "markdown",
   "metadata": {},
   "source": [
    "#### 25. Create a Github account and upload your solution with the short write-up on Numpy"
   ]
  },
  {
   "cell_type": "code",
   "execution_count": null,
   "metadata": {},
   "outputs": [],
   "source": [
    "# Solution\n",
    "\n",
    "https://github.com/tkseneee\n",
    "\n"
   ]
  }
 ],
 "metadata": {
  "kernelspec": {
   "display_name": "Python 3",
   "language": "python",
   "name": "python3"
  },
  "language_info": {
   "codemirror_mode": {
    "name": "ipython",
    "version": 3
   },
   "file_extension": ".py",
   "mimetype": "text/x-python",
   "name": "python",
   "nbconvert_exporter": "python",
   "pygments_lexer": "ipython3",
   "version": "3.7.3"
  }
 },
 "nbformat": 4,
 "nbformat_minor": 2
}
